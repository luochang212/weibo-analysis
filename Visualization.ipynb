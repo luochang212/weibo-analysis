{
 "cells": [
  {
   "cell_type": "code",
   "execution_count": 78,
   "metadata": {},
   "outputs": [],
   "source": [
    "import numpy as np\n",
    "import csv\n",
    "import pandas as pd\n",
    "import matplotlib.pyplot as plt\n",
    "import matplotlib\n",
    "from ipywidgets import interact\n",
    "import seaborn as sns\n",
    "import os\n",
    "import os.path\n",
    "\n",
    "\n",
    "class PrettySentences:\n",
    "\n",
    "    def split(self, file):\n",
    "        with open(file, encoding=\"utf8\") as cur_file:\n",
    "            txt = cur_file.read()\n",
    "            txt = str(txt)\n",
    "            txt = txt.split(\"Read\")\n",
    "            return txt\n",
    "\n",
    "    def classification(self, txt_array, file_index):\n",
    "        id = np.array([])\n",
    "        date = np.array([])\n",
    "        time = np.array([])\n",
    "        device = np.array([])\n",
    "        content = np.array([])\n",
    "\n",
    "        count = 0\n",
    "        for ite in range(1, np.size(txt_array), 1):\n",
    "            if txt_array[ite].find(\"\\n\"+\"YOUR_NAME\") != -1:\n",
    "                cur_sentence = txt_array[ite][txt_array[ite].rfind(\"\\n\"+\"YOUR_NAME\") + len(\"\\n\"+\"YOUR_NAME\")+1:txt_array[ite].find(\"\\u200b\")]\n",
    "                count += 1\n",
    "                id = np.append(id, str(file_index) + '.' + str(count))\n",
    "                device = np.append(device, cur_sentence[cur_sentence.find(\"come from\") + 10:].split(\"\\n\")[0])\n",
    "                content = np.append(content, str(cur_sentence[cur_sentence.find(\"\\n\") + 1:]))\n",
    "                if cur_sentence != '':\n",
    "                    start = cur_sentence[0:11].rfind(\"-\")\n",
    "                    end = cur_sentence[0:16].rfind(\":\")\n",
    "                    date = np.append(date, cur_sentence[0:start+3])\n",
    "                    time = np.append(time, cur_sentence[end-2:end+3])\n",
    "                else:\n",
    "                    date = np.append(date, '')\n",
    "                    time = np.append(time, '')\n",
    "\n",
    "\n",
    "        flag = 0\n",
    "        if count != len(time):\n",
    "            print(\"Error: time and sentence do not have same size in file {}\".format(str(file_index)))\n",
    "            flag = 1\n",
    "        if count != len(device):\n",
    "            print(\"Error: device and sentence do not have same size in file {}\".format(str(file_index)))\n",
    "            flag = 1\n",
    "        if count != len(content):\n",
    "            print(\"Error: content and sentence do not have same size in file {}\".format(str(file_index)))\n",
    "            flag = 1\n",
    "\n",
    "        if flag == 1:\n",
    "            id = np.array([])\n",
    "            date = np.array([])\n",
    "            time = np.array([])\n",
    "            device = np.array([])\n",
    "            content = np.array([])\n",
    "\n",
    "        return id, date, time, device, content\n",
    "\n",
    "\n",
    "def write_csv(all_weibo):\n",
    "    id, date, time, device, content = zip(*all_weibo)\n",
    "    id = np.array(id).flatten()\n",
    "    date = np.array(date).flatten()\n",
    "    time = np.array(time).flatten()\n",
    "    device = np.array(device).flatten()\n",
    "    content = np.array(content).flatten()\n",
    "\n",
    "    with open('weibo.csv', \"w\", encoding=\"utf8\") as csvFile:  # wb\n",
    "        writer = csv.writer(csvFile)\n",
    "        # write the title of csv file\n",
    "        writer.writerow(['id', 'date', 'time', 'device', 'content'])\n",
    "\n",
    "        # write the elements of weibo\n",
    "        for i in range(len(id)):\n",
    "            row = [id[i], date[i], time[i], device[i], content[i]]\n",
    "            writer.writerow(row)\n",
    "    csvFile.close()\n",
    "\n",
    "def test():\n",
    "    instance = PrettySentences()\n",
    "    txt = instance.split(\"1001030102/source/2\")\n",
    "    txt_array = np.array(txt)\n",
    "    print(txt_array)\n",
    "#     _id, _date, _time, _device, _content = instance.classification(txt_array, 2)     \n",
    "#     print(_content)\n",
    "\n",
    "def main():\n",
    "    file_number = 58  # len([name for name in os.listdir(\"208999251/source\")])\n",
    "    paths = [\"1001030102/source/\" + str(x) for x in range(1, file_number+1)]\n",
    "    id = np.array([])\n",
    "    date = np.array([])\n",
    "    time = np.array([])\n",
    "    device = np.array([])\n",
    "    content = np.array([])\n",
    "    for i in range(file_number):\n",
    "        instance = PrettySentences()\n",
    "        txt = instance.split(paths[i])\n",
    "        txt_array = np.array(txt)\n",
    "        _id, _date, _time, _device, _content = instance.classification(txt_array, i+1)\n",
    "        id = np.append(id, _id)\n",
    "        time = np.append(time, _time)\n",
    "        date = np.append(date, _date)\n",
    "        device = np.append(device, _device)\n",
    "        content = np.append(content, _content)\n",
    "    all_weibo = zip(id, date, time, device, content)\n",
    "    write_csv(all_weibo)\n",
    "\n",
    "\n",
    "if __name__ == '__main__':\n",
    "    main()\n"
   ]
  },
  {
   "cell_type": "code",
   "execution_count": null,
   "metadata": {},
   "outputs": [],
   "source": [
    "data = pd.read_csv('weibo.csv')"
   ]
  },
  {
   "cell_type": "code",
   "execution_count": 80,
   "metadata": {},
   "outputs": [
    {
     "data": {
      "text/plain": [
       "1891"
      ]
     },
     "execution_count": 80,
     "metadata": {},
     "output_type": "execute_result"
    }
   ],
   "source": [
    "dates = np.array([str(x) for x in data.date])\n",
    "new_dates = np.matrix([])\n",
    "new_year = np.array([])\n",
    "new_month = np.array([])\n",
    "new_ite = np.array([])\n",
    "ite = 0\n",
    "\n",
    "def is_year(string):\n",
    "    if string.find('2013') != -1:\n",
    "        return '2013'\n",
    "    elif string.find('2014') != -1:\n",
    "        return '2014'\n",
    "    elif string.find('2015') != -1:\n",
    "        return '2015'\n",
    "    elif string.find('2016') != -1:\n",
    "        return '2016'\n",
    "    else:\n",
    "        return '2017'\n",
    "\n",
    "for date in dates:   \n",
    "    if date.find('-') != -1:\n",
    "        new_ite = np.append(new_ite, str(ite))\n",
    "        ite += 1\n",
    "        year = str(is_year(date).replace(\"-\", \"\"))\n",
    "        new_year = np.append(new_year, year)\n",
    "    \n",
    "for date in dates:\n",
    "    if date.find('-') != -1:\n",
    "        if is_year(date) == '2017':\n",
    "            month = str(date[0:date.find(\"-\")].replace(\" \", \"\"))\n",
    "        else:\n",
    "            month = str(date[date.find(\"-\"):date.find(\"-\")+3].replace(\"-\", \"\").replace(\" \", \"\"))\n",
    "        new_month = np.append(new_month, month)\n",
    "\n",
    "if len(new_year) == len(new_month):\n",
    "    new_dates = np.c_[new_ite, new_year, new_month]\n",
    "else:\n",
    "    print(\"Error: The size of array is not the same.\")\n",
    "new_dates.shape[0]"
   ]
  },
  {
   "cell_type": "code",
   "execution_count": 81,
   "metadata": {},
   "outputs": [
    {
     "data": {
      "text/plain": [
       "[Text(35.0, 0.5, 'Year Group'), Text(0.5, 17.0, 'Month')]"
      ]
     },
     "execution_count": 81,
     "metadata": {},
     "output_type": "execute_result"
    },
    {
     "data": {
      "image/png": "[encoded data removed]",
      "text/plain": [
       "<Figure size 432x288 with 2 Axes>"
      ]
     },
     "metadata": {
      "needs_background": "light"
     },
     "output_type": "display_data"
    }
   ],
   "source": [
    "year_group = '2013', '2014', '2015', '2016', '2017' \n",
    "month_group = 'Jan', 'Feb', 'Mar', 'Apr', 'May', 'Jun', 'Jul', 'Aug', 'Sept', 'Oct', 'Nov', 'Dec'\n",
    "\n",
    "values = np.zeros((len(year_group),len(month_group)))\n",
    "for i in range(new_dates.shape[0]):\n",
    "    for year in range(len(year_group)):\n",
    "        for month in range(len(month_group)):\n",
    "            if new_dates[i, 1] == year_group[year] and new_dates[i, 2] == str(month+1):\n",
    "                values[year, month] += 1\n",
    "\n",
    "ax = sns.heatmap(values, xticklabels=month_group, yticklabels=year_group, cmap='YlGnBu', cbar_kws={'label': 'Heat Map'})\n",
    "ax.set(xlabel='Month', ylabel='Year Group')"
   ]
  },
  {
   "cell_type": "code",
   "execution_count": 82,
   "metadata": {},
   "outputs": [
    {
     "data": {
      "text/plain": [
       "1595"
      ]
     },
     "execution_count": 82,
     "metadata": {},
     "output_type": "execute_result"
    }
   ],
   "source": [
    "devices = np.array([str(x) for x in data.device])\n",
    "new_device = np.array([])\n",
    "for device in devices:\n",
    "    if device.find('华为Ascend P7') != -1 or device.find('华为麦芒4') != -1 or device.find('微博 weibo.com') != -1 \\\n",
    "    or device.find('网易云音乐') != -1 or device.find('Android') != -1:\n",
    "        if device.find('华为Ascend P7')!= -1:\n",
    "            new_device = np.append(new_device, '华为Ascend P7')\n",
    "        elif device.find('华为麦芒4') != -1:\n",
    "            new_device = np.append(new_device, '华为麦芒4')\n",
    "        elif device.find('微博 weibo.com') != -1:\n",
    "            new_device = np.append(new_device, '微博 weibo.com')\n",
    "        elif device.find('网易云音乐') != -1:\n",
    "            new_device = np.append(new_device, '网易云音乐')\n",
    "        elif device.find('Android') != -1:\n",
    "            new_device = np.append(new_device, 'Android')\n",
    "np.size(new_device)    "
   ]
  },
  {
   "cell_type": "code",
   "execution_count": 83,
   "metadata": {},
   "outputs": [
    {
     "data": {
      "image/png": "[encoded data removed]",
      "text/plain": [
       "<Figure size 432x288 with 1 Axes>"
      ]
     },
     "metadata": {
      "needs_background": "light"
     },
     "output_type": "display_data"
    }
   ],
   "source": [
    "plt.hist(new_device, bins=5, facecolor=\"blue\", edgecolor=\"black\")\n",
    "matplotlib.rcParams['font.sans-serif']=['SimHei']\n",
    "\n",
    "plt.xlabel(\"devices\")\n",
    "plt.ylabel(\"frequency\")\n",
    "\n",
    "plt.title(\"Device distribution\")\n",
    "\n",
    "plt.show()"
   ]
  },
  {
   "cell_type": "code",
   "execution_count": 84,
   "metadata": {},
   "outputs": [
    {
     "name": "stdout",
     "output_type": "stream",
     "text": [
      "1891\n",
      "[12  4  1 ...  8 23  0]\n"
     ]
    }
   ],
   "source": [
    "time = [str(x) for x in data.time]\n",
    "times = np.array([])\n",
    "\n",
    "for hour in time:\n",
    "    times = np.append(times, hour[0:2])\n",
    "    \n",
    "times = np.array([int(time) for time in times if time != 'na'])\n",
    "\n",
    "print(np.size(times))\n",
    "print(times)"
   ]
  },
  {
   "cell_type": "code",
   "execution_count": 85,
   "metadata": {},
   "outputs": [
    {
     "data": {
      "image/png": "[encoded data removed]",
      "text/plain": [
       "<Figure size 432x288 with 1 Axes>"
      ]
     },
     "metadata": {
      "needs_background": "light"
     },
     "output_type": "display_data"
    }
   ],
   "source": [
    "plt.hist(times, bins=24, facecolor=\"blue\", edgecolor=\"black\")\n",
    "\n",
    "plt.xlabel(\"hours\")\n",
    "plt.ylabel(\"frequency\")\n",
    "\n",
    "plt.title(\"Time distribution\")\n",
    "\n",
    "plt.show()"
   ]
  },
  {
   "cell_type": "code",
   "execution_count": null,
   "metadata": {},
   "outputs": [],
   "source": [
    "from ipywidgets import interact\n",
    "\n",
    "def f(p):\n",
    "    index = np.where(times == p)[0]\n",
    "    print(data.content[index])\n",
    "\n",
    "print('Weibo sending time: ')\n",
    "interact(f, p=(0,23));"
   ]
  }
 ],
 "metadata": {
  "kernelspec": {
   "display_name": "Python 3",
   "language": "python",
   "name": "python3"
  },
  "language_info": {
   "codemirror_mode": {
    "name": "ipython",
    "version": 3
   },
   "file_extension": ".py",
   "mimetype": "text/x-python",
   "name": "python",
   "nbconvert_exporter": "python",
   "pygments_lexer": "ipython3",
   "version": "3.7.3"
  }
 },
 "nbformat": 4,
 "nbformat_minor": 2
}
